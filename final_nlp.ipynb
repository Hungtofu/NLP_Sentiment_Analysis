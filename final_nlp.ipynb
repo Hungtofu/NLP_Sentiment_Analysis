{
  "nbformat": 4,
  "nbformat_minor": 0,
  "metadata": {
    "colab": {
      "provenance": []
    },
    "kernelspec": {
      "name": "python3",
      "display_name": "Python 3"
    },
    "language_info": {
      "name": "python"
    }
  },
  "cells": [
    {
      "cell_type": "markdown",
      "source": [
        "#Đoạn này là preprocessing"
      ],
      "metadata": {
        "id": "mR36ZShEBb8t"
      }
    },
    {
      "cell_type": "code",
      "source": [
        "pip install pyvi"
      ],
      "metadata": {
        "colab": {
          "base_uri": "https://localhost:8080/"
        },
        "id": "bCv4NtTSz4_q",
        "outputId": "52ed8d17-0bbc-44f5-a2ad-ea1afd4e65ab"
      },
      "execution_count": null,
      "outputs": [
        {
          "output_type": "stream",
          "name": "stdout",
          "text": [
            "Requirement already satisfied: pyvi in /usr/local/lib/python3.10/dist-packages (0.1.1)\n",
            "Requirement already satisfied: scikit-learn in /usr/local/lib/python3.10/dist-packages (from pyvi) (1.2.2)\n",
            "Requirement already satisfied: sklearn-crfsuite in /usr/local/lib/python3.10/dist-packages (from pyvi) (0.3.6)\n",
            "Requirement already satisfied: numpy>=1.17.3 in /usr/local/lib/python3.10/dist-packages (from scikit-learn->pyvi) (1.23.5)\n",
            "Requirement already satisfied: scipy>=1.3.2 in /usr/local/lib/python3.10/dist-packages (from scikit-learn->pyvi) (1.11.4)\n",
            "Requirement already satisfied: joblib>=1.1.1 in /usr/local/lib/python3.10/dist-packages (from scikit-learn->pyvi) (1.3.2)\n",
            "Requirement already satisfied: threadpoolctl>=2.0.0 in /usr/local/lib/python3.10/dist-packages (from scikit-learn->pyvi) (3.2.0)\n",
            "Requirement already satisfied: python-crfsuite>=0.8.3 in /usr/local/lib/python3.10/dist-packages (from sklearn-crfsuite->pyvi) (0.9.10)\n",
            "Requirement already satisfied: six in /usr/local/lib/python3.10/dist-packages (from sklearn-crfsuite->pyvi) (1.16.0)\n",
            "Requirement already satisfied: tabulate in /usr/local/lib/python3.10/dist-packages (from sklearn-crfsuite->pyvi) (0.9.0)\n",
            "Requirement already satisfied: tqdm>=2.0 in /usr/local/lib/python3.10/dist-packages (from sklearn-crfsuite->pyvi) (4.66.1)\n"
          ]
        }
      ]
    },
    {
      "cell_type": "code",
      "source": [
        "from sklearn.feature_extraction.text import CountVectorizer\n",
        "from sklearn.model_selection import train_test_split\n",
        "from sklearn.feature_extraction.text import TfidfVectorizer\n",
        "import pandas as pd\n",
        "from sklearn.metrics import classification_report"
      ],
      "metadata": {
        "id": "ME4iyzVGffbK"
      },
      "execution_count": null,
      "outputs": []
    },
    {
      "cell_type": "code",
      "source": [
        "import pandas as pd\n",
        "data = pd.read_csv(\"/content/drive/MyDrive/NLP/dataset2.csv\")"
      ],
      "metadata": {
        "id": "VO5GzuL3fjyU"
      },
      "execution_count": null,
      "outputs": []
    },
    {
      "cell_type": "code",
      "source": [
        "data = data.dropna()"
      ],
      "metadata": {
        "id": "tdjDN4r7yy-N"
      },
      "execution_count": null,
      "outputs": []
    },
    {
      "cell_type": "code",
      "source": [
        "data.head()"
      ],
      "metadata": {
        "colab": {
          "base_uri": "https://localhost:8080/",
          "height": 206
        },
        "id": "g9OAh29yfkj5",
        "outputId": "9840f287-f16f-4fef-d026-e03d8f9b99b3"
      },
      "execution_count": null,
      "outputs": [
        {
          "output_type": "execute_result",
          "data": {
            "text/plain": [
              "                                              review  label\n",
              "0           shop quá tệ  đặc màu trắng giao màu xanh      0\n",
              "1  mình rất hài lòng với sản phẩm của shop\\nhàng ...      1\n",
              "2  hình ảnh chỉ mang tính chất nhận xu hàng về nh...      1\n",
              "3  sản phẩm thì như hình minh họa giao hàng nhanh...      1\n",
              "4  sản phẩm chất lương đã mua cái thứ 2 rẻ hơn cá...      1"
            ],
            "text/html": [
              "\n",
              "  <div id=\"df-ca12b05e-cc32-4c6c-9310-58efd7c12a2d\" class=\"colab-df-container\">\n",
              "    <div>\n",
              "<style scoped>\n",
              "    .dataframe tbody tr th:only-of-type {\n",
              "        vertical-align: middle;\n",
              "    }\n",
              "\n",
              "    .dataframe tbody tr th {\n",
              "        vertical-align: top;\n",
              "    }\n",
              "\n",
              "    .dataframe thead th {\n",
              "        text-align: right;\n",
              "    }\n",
              "</style>\n",
              "<table border=\"1\" class=\"dataframe\">\n",
              "  <thead>\n",
              "    <tr style=\"text-align: right;\">\n",
              "      <th></th>\n",
              "      <th>review</th>\n",
              "      <th>label</th>\n",
              "    </tr>\n",
              "  </thead>\n",
              "  <tbody>\n",
              "    <tr>\n",
              "      <th>0</th>\n",
              "      <td>shop quá tệ  đặc màu trắng giao màu xanh</td>\n",
              "      <td>0</td>\n",
              "    </tr>\n",
              "    <tr>\n",
              "      <th>1</th>\n",
              "      <td>mình rất hài lòng với sản phẩm của shop\\nhàng ...</td>\n",
              "      <td>1</td>\n",
              "    </tr>\n",
              "    <tr>\n",
              "      <th>2</th>\n",
              "      <td>hình ảnh chỉ mang tính chất nhận xu hàng về nh...</td>\n",
              "      <td>1</td>\n",
              "    </tr>\n",
              "    <tr>\n",
              "      <th>3</th>\n",
              "      <td>sản phẩm thì như hình minh họa giao hàng nhanh...</td>\n",
              "      <td>1</td>\n",
              "    </tr>\n",
              "    <tr>\n",
              "      <th>4</th>\n",
              "      <td>sản phẩm chất lương đã mua cái thứ 2 rẻ hơn cá...</td>\n",
              "      <td>1</td>\n",
              "    </tr>\n",
              "  </tbody>\n",
              "</table>\n",
              "</div>\n",
              "    <div class=\"colab-df-buttons\">\n",
              "\n",
              "  <div class=\"colab-df-container\">\n",
              "    <button class=\"colab-df-convert\" onclick=\"convertToInteractive('df-ca12b05e-cc32-4c6c-9310-58efd7c12a2d')\"\n",
              "            title=\"Convert this dataframe to an interactive table.\"\n",
              "            style=\"display:none;\">\n",
              "\n",
              "  <svg xmlns=\"http://www.w3.org/2000/svg\" height=\"24px\" viewBox=\"0 -960 960 960\">\n",
              "    <path d=\"M120-120v-720h720v720H120Zm60-500h600v-160H180v160Zm220 220h160v-160H400v160Zm0 220h160v-160H400v160ZM180-400h160v-160H180v160Zm440 0h160v-160H620v160ZM180-180h160v-160H180v160Zm440 0h160v-160H620v160Z\"/>\n",
              "  </svg>\n",
              "    </button>\n",
              "\n",
              "  <style>\n",
              "    .colab-df-container {\n",
              "      display:flex;\n",
              "      gap: 12px;\n",
              "    }\n",
              "\n",
              "    .colab-df-convert {\n",
              "      background-color: #E8F0FE;\n",
              "      border: none;\n",
              "      border-radius: 50%;\n",
              "      cursor: pointer;\n",
              "      display: none;\n",
              "      fill: #1967D2;\n",
              "      height: 32px;\n",
              "      padding: 0 0 0 0;\n",
              "      width: 32px;\n",
              "    }\n",
              "\n",
              "    .colab-df-convert:hover {\n",
              "      background-color: #E2EBFA;\n",
              "      box-shadow: 0px 1px 2px rgba(60, 64, 67, 0.3), 0px 1px 3px 1px rgba(60, 64, 67, 0.15);\n",
              "      fill: #174EA6;\n",
              "    }\n",
              "\n",
              "    .colab-df-buttons div {\n",
              "      margin-bottom: 4px;\n",
              "    }\n",
              "\n",
              "    [theme=dark] .colab-df-convert {\n",
              "      background-color: #3B4455;\n",
              "      fill: #D2E3FC;\n",
              "    }\n",
              "\n",
              "    [theme=dark] .colab-df-convert:hover {\n",
              "      background-color: #434B5C;\n",
              "      box-shadow: 0px 1px 3px 1px rgba(0, 0, 0, 0.15);\n",
              "      filter: drop-shadow(0px 1px 2px rgba(0, 0, 0, 0.3));\n",
              "      fill: #FFFFFF;\n",
              "    }\n",
              "  </style>\n",
              "\n",
              "    <script>\n",
              "      const buttonEl =\n",
              "        document.querySelector('#df-ca12b05e-cc32-4c6c-9310-58efd7c12a2d button.colab-df-convert');\n",
              "      buttonEl.style.display =\n",
              "        google.colab.kernel.accessAllowed ? 'block' : 'none';\n",
              "\n",
              "      async function convertToInteractive(key) {\n",
              "        const element = document.querySelector('#df-ca12b05e-cc32-4c6c-9310-58efd7c12a2d');\n",
              "        const dataTable =\n",
              "          await google.colab.kernel.invokeFunction('convertToInteractive',\n",
              "                                                    [key], {});\n",
              "        if (!dataTable) return;\n",
              "\n",
              "        const docLinkHtml = 'Like what you see? Visit the ' +\n",
              "          '<a target=\"_blank\" href=https://colab.research.google.com/notebooks/data_table.ipynb>data table notebook</a>'\n",
              "          + ' to learn more about interactive tables.';\n",
              "        element.innerHTML = '';\n",
              "        dataTable['output_type'] = 'display_data';\n",
              "        await google.colab.output.renderOutput(dataTable, element);\n",
              "        const docLink = document.createElement('div');\n",
              "        docLink.innerHTML = docLinkHtml;\n",
              "        element.appendChild(docLink);\n",
              "      }\n",
              "    </script>\n",
              "  </div>\n",
              "\n",
              "\n",
              "<div id=\"df-79d7f796-0769-4a0d-957c-af500024867b\">\n",
              "  <button class=\"colab-df-quickchart\" onclick=\"quickchart('df-79d7f796-0769-4a0d-957c-af500024867b')\"\n",
              "            title=\"Suggest charts\"\n",
              "            style=\"display:none;\">\n",
              "\n",
              "<svg xmlns=\"http://www.w3.org/2000/svg\" height=\"24px\"viewBox=\"0 0 24 24\"\n",
              "     width=\"24px\">\n",
              "    <g>\n",
              "        <path d=\"M19 3H5c-1.1 0-2 .9-2 2v14c0 1.1.9 2 2 2h14c1.1 0 2-.9 2-2V5c0-1.1-.9-2-2-2zM9 17H7v-7h2v7zm4 0h-2V7h2v10zm4 0h-2v-4h2v4z\"/>\n",
              "    </g>\n",
              "</svg>\n",
              "  </button>\n",
              "\n",
              "<style>\n",
              "  .colab-df-quickchart {\n",
              "      --bg-color: #E8F0FE;\n",
              "      --fill-color: #1967D2;\n",
              "      --hover-bg-color: #E2EBFA;\n",
              "      --hover-fill-color: #174EA6;\n",
              "      --disabled-fill-color: #AAA;\n",
              "      --disabled-bg-color: #DDD;\n",
              "  }\n",
              "\n",
              "  [theme=dark] .colab-df-quickchart {\n",
              "      --bg-color: #3B4455;\n",
              "      --fill-color: #D2E3FC;\n",
              "      --hover-bg-color: #434B5C;\n",
              "      --hover-fill-color: #FFFFFF;\n",
              "      --disabled-bg-color: #3B4455;\n",
              "      --disabled-fill-color: #666;\n",
              "  }\n",
              "\n",
              "  .colab-df-quickchart {\n",
              "    background-color: var(--bg-color);\n",
              "    border: none;\n",
              "    border-radius: 50%;\n",
              "    cursor: pointer;\n",
              "    display: none;\n",
              "    fill: var(--fill-color);\n",
              "    height: 32px;\n",
              "    padding: 0;\n",
              "    width: 32px;\n",
              "  }\n",
              "\n",
              "  .colab-df-quickchart:hover {\n",
              "    background-color: var(--hover-bg-color);\n",
              "    box-shadow: 0 1px 2px rgba(60, 64, 67, 0.3), 0 1px 3px 1px rgba(60, 64, 67, 0.15);\n",
              "    fill: var(--button-hover-fill-color);\n",
              "  }\n",
              "\n",
              "  .colab-df-quickchart-complete:disabled,\n",
              "  .colab-df-quickchart-complete:disabled:hover {\n",
              "    background-color: var(--disabled-bg-color);\n",
              "    fill: var(--disabled-fill-color);\n",
              "    box-shadow: none;\n",
              "  }\n",
              "\n",
              "  .colab-df-spinner {\n",
              "    border: 2px solid var(--fill-color);\n",
              "    border-color: transparent;\n",
              "    border-bottom-color: var(--fill-color);\n",
              "    animation:\n",
              "      spin 1s steps(1) infinite;\n",
              "  }\n",
              "\n",
              "  @keyframes spin {\n",
              "    0% {\n",
              "      border-color: transparent;\n",
              "      border-bottom-color: var(--fill-color);\n",
              "      border-left-color: var(--fill-color);\n",
              "    }\n",
              "    20% {\n",
              "      border-color: transparent;\n",
              "      border-left-color: var(--fill-color);\n",
              "      border-top-color: var(--fill-color);\n",
              "    }\n",
              "    30% {\n",
              "      border-color: transparent;\n",
              "      border-left-color: var(--fill-color);\n",
              "      border-top-color: var(--fill-color);\n",
              "      border-right-color: var(--fill-color);\n",
              "    }\n",
              "    40% {\n",
              "      border-color: transparent;\n",
              "      border-right-color: var(--fill-color);\n",
              "      border-top-color: var(--fill-color);\n",
              "    }\n",
              "    60% {\n",
              "      border-color: transparent;\n",
              "      border-right-color: var(--fill-color);\n",
              "    }\n",
              "    80% {\n",
              "      border-color: transparent;\n",
              "      border-right-color: var(--fill-color);\n",
              "      border-bottom-color: var(--fill-color);\n",
              "    }\n",
              "    90% {\n",
              "      border-color: transparent;\n",
              "      border-bottom-color: var(--fill-color);\n",
              "    }\n",
              "  }\n",
              "</style>\n",
              "\n",
              "  <script>\n",
              "    async function quickchart(key) {\n",
              "      const quickchartButtonEl =\n",
              "        document.querySelector('#' + key + ' button');\n",
              "      quickchartButtonEl.disabled = true;  // To prevent multiple clicks.\n",
              "      quickchartButtonEl.classList.add('colab-df-spinner');\n",
              "      try {\n",
              "        const charts = await google.colab.kernel.invokeFunction(\n",
              "            'suggestCharts', [key], {});\n",
              "      } catch (error) {\n",
              "        console.error('Error during call to suggestCharts:', error);\n",
              "      }\n",
              "      quickchartButtonEl.classList.remove('colab-df-spinner');\n",
              "      quickchartButtonEl.classList.add('colab-df-quickchart-complete');\n",
              "    }\n",
              "    (() => {\n",
              "      let quickchartButtonEl =\n",
              "        document.querySelector('#df-79d7f796-0769-4a0d-957c-af500024867b button');\n",
              "      quickchartButtonEl.style.display =\n",
              "        google.colab.kernel.accessAllowed ? 'block' : 'none';\n",
              "    })();\n",
              "  </script>\n",
              "</div>\n",
              "    </div>\n",
              "  </div>\n"
            ]
          },
          "metadata": {},
          "execution_count": 378
        }
      ]
    },
    {
      "cell_type": "code",
      "source": [
        "sentences = data['review']"
      ],
      "metadata": {
        "id": "vXu7O5n-fvXM"
      },
      "execution_count": null,
      "outputs": []
    },
    {
      "cell_type": "code",
      "source": [
        "label_counts = data['label'].value_counts()"
      ],
      "metadata": {
        "id": "iqJDiRUBfJ4i"
      },
      "execution_count": null,
      "outputs": []
    },
    {
      "cell_type": "code",
      "source": [
        "print(label_counts)"
      ],
      "metadata": {
        "colab": {
          "base_uri": "https://localhost:8080/"
        },
        "id": "TV02EtphfPiX",
        "outputId": "3399f546-dd88-4be6-f583-f0d6d62174ed"
      },
      "execution_count": null,
      "outputs": [
        {
          "output_type": "stream",
          "name": "stdout",
          "text": [
            "1    4128\n",
            "0    3759\n",
            "2    1342\n",
            "Name: label, dtype: int64\n"
          ]
        }
      ]
    },
    {
      "cell_type": "code",
      "source": [
        "# Chuẩn hóa văn bản\n",
        "data['review'] = data['review'].str.lower()\n",
        "data['review'] = data['review'].replace('[^\\w\\s]', '', regex=True)\n"
      ],
      "metadata": {
        "id": "1xSUzhj2fV7S"
      },
      "execution_count": null,
      "outputs": []
    },
    {
      "cell_type": "code",
      "source": [
        "data.head()"
      ],
      "metadata": {
        "colab": {
          "base_uri": "https://localhost:8080/",
          "height": 206
        },
        "id": "gpuXrJ-Qf3mY",
        "outputId": "a936b7b4-582b-49c2-ed64-14c91d5242a1"
      },
      "execution_count": null,
      "outputs": [
        {
          "output_type": "execute_result",
          "data": {
            "text/plain": [
              "                                              review  label\n",
              "0           shop quá tệ  đặc màu trắng giao màu xanh      0\n",
              "1  mình rất hài lòng với sản phẩm của shop\\nhàng ...      1\n",
              "2  hình ảnh chỉ mang tính chất nhận xu hàng về nh...      1\n",
              "3  sản phẩm thì như hình minh họa giao hàng nhanh...      1\n",
              "4  sản phẩm chất lương đã mua cái thứ 2 rẻ hơn cá...      1"
            ],
            "text/html": [
              "\n",
              "  <div id=\"df-0cf8c870-f02f-4d7e-b745-e88c3e21940e\" class=\"colab-df-container\">\n",
              "    <div>\n",
              "<style scoped>\n",
              "    .dataframe tbody tr th:only-of-type {\n",
              "        vertical-align: middle;\n",
              "    }\n",
              "\n",
              "    .dataframe tbody tr th {\n",
              "        vertical-align: top;\n",
              "    }\n",
              "\n",
              "    .dataframe thead th {\n",
              "        text-align: right;\n",
              "    }\n",
              "</style>\n",
              "<table border=\"1\" class=\"dataframe\">\n",
              "  <thead>\n",
              "    <tr style=\"text-align: right;\">\n",
              "      <th></th>\n",
              "      <th>review</th>\n",
              "      <th>label</th>\n",
              "    </tr>\n",
              "  </thead>\n",
              "  <tbody>\n",
              "    <tr>\n",
              "      <th>0</th>\n",
              "      <td>shop quá tệ  đặc màu trắng giao màu xanh</td>\n",
              "      <td>0</td>\n",
              "    </tr>\n",
              "    <tr>\n",
              "      <th>1</th>\n",
              "      <td>mình rất hài lòng với sản phẩm của shop\\nhàng ...</td>\n",
              "      <td>1</td>\n",
              "    </tr>\n",
              "    <tr>\n",
              "      <th>2</th>\n",
              "      <td>hình ảnh chỉ mang tính chất nhận xu hàng về nh...</td>\n",
              "      <td>1</td>\n",
              "    </tr>\n",
              "    <tr>\n",
              "      <th>3</th>\n",
              "      <td>sản phẩm thì như hình minh họa giao hàng nhanh...</td>\n",
              "      <td>1</td>\n",
              "    </tr>\n",
              "    <tr>\n",
              "      <th>4</th>\n",
              "      <td>sản phẩm chất lương đã mua cái thứ 2 rẻ hơn cá...</td>\n",
              "      <td>1</td>\n",
              "    </tr>\n",
              "  </tbody>\n",
              "</table>\n",
              "</div>\n",
              "    <div class=\"colab-df-buttons\">\n",
              "\n",
              "  <div class=\"colab-df-container\">\n",
              "    <button class=\"colab-df-convert\" onclick=\"convertToInteractive('df-0cf8c870-f02f-4d7e-b745-e88c3e21940e')\"\n",
              "            title=\"Convert this dataframe to an interactive table.\"\n",
              "            style=\"display:none;\">\n",
              "\n",
              "  <svg xmlns=\"http://www.w3.org/2000/svg\" height=\"24px\" viewBox=\"0 -960 960 960\">\n",
              "    <path d=\"M120-120v-720h720v720H120Zm60-500h600v-160H180v160Zm220 220h160v-160H400v160Zm0 220h160v-160H400v160ZM180-400h160v-160H180v160Zm440 0h160v-160H620v160ZM180-180h160v-160H180v160Zm440 0h160v-160H620v160Z\"/>\n",
              "  </svg>\n",
              "    </button>\n",
              "\n",
              "  <style>\n",
              "    .colab-df-container {\n",
              "      display:flex;\n",
              "      gap: 12px;\n",
              "    }\n",
              "\n",
              "    .colab-df-convert {\n",
              "      background-color: #E8F0FE;\n",
              "      border: none;\n",
              "      border-radius: 50%;\n",
              "      cursor: pointer;\n",
              "      display: none;\n",
              "      fill: #1967D2;\n",
              "      height: 32px;\n",
              "      padding: 0 0 0 0;\n",
              "      width: 32px;\n",
              "    }\n",
              "\n",
              "    .colab-df-convert:hover {\n",
              "      background-color: #E2EBFA;\n",
              "      box-shadow: 0px 1px 2px rgba(60, 64, 67, 0.3), 0px 1px 3px 1px rgba(60, 64, 67, 0.15);\n",
              "      fill: #174EA6;\n",
              "    }\n",
              "\n",
              "    .colab-df-buttons div {\n",
              "      margin-bottom: 4px;\n",
              "    }\n",
              "\n",
              "    [theme=dark] .colab-df-convert {\n",
              "      background-color: #3B4455;\n",
              "      fill: #D2E3FC;\n",
              "    }\n",
              "\n",
              "    [theme=dark] .colab-df-convert:hover {\n",
              "      background-color: #434B5C;\n",
              "      box-shadow: 0px 1px 3px 1px rgba(0, 0, 0, 0.15);\n",
              "      filter: drop-shadow(0px 1px 2px rgba(0, 0, 0, 0.3));\n",
              "      fill: #FFFFFF;\n",
              "    }\n",
              "  </style>\n",
              "\n",
              "    <script>\n",
              "      const buttonEl =\n",
              "        document.querySelector('#df-0cf8c870-f02f-4d7e-b745-e88c3e21940e button.colab-df-convert');\n",
              "      buttonEl.style.display =\n",
              "        google.colab.kernel.accessAllowed ? 'block' : 'none';\n",
              "\n",
              "      async function convertToInteractive(key) {\n",
              "        const element = document.querySelector('#df-0cf8c870-f02f-4d7e-b745-e88c3e21940e');\n",
              "        const dataTable =\n",
              "          await google.colab.kernel.invokeFunction('convertToInteractive',\n",
              "                                                    [key], {});\n",
              "        if (!dataTable) return;\n",
              "\n",
              "        const docLinkHtml = 'Like what you see? Visit the ' +\n",
              "          '<a target=\"_blank\" href=https://colab.research.google.com/notebooks/data_table.ipynb>data table notebook</a>'\n",
              "          + ' to learn more about interactive tables.';\n",
              "        element.innerHTML = '';\n",
              "        dataTable['output_type'] = 'display_data';\n",
              "        await google.colab.output.renderOutput(dataTable, element);\n",
              "        const docLink = document.createElement('div');\n",
              "        docLink.innerHTML = docLinkHtml;\n",
              "        element.appendChild(docLink);\n",
              "      }\n",
              "    </script>\n",
              "  </div>\n",
              "\n",
              "\n",
              "<div id=\"df-59a4e126-6cd8-4a87-bf05-b1824c5e8e13\">\n",
              "  <button class=\"colab-df-quickchart\" onclick=\"quickchart('df-59a4e126-6cd8-4a87-bf05-b1824c5e8e13')\"\n",
              "            title=\"Suggest charts\"\n",
              "            style=\"display:none;\">\n",
              "\n",
              "<svg xmlns=\"http://www.w3.org/2000/svg\" height=\"24px\"viewBox=\"0 0 24 24\"\n",
              "     width=\"24px\">\n",
              "    <g>\n",
              "        <path d=\"M19 3H5c-1.1 0-2 .9-2 2v14c0 1.1.9 2 2 2h14c1.1 0 2-.9 2-2V5c0-1.1-.9-2-2-2zM9 17H7v-7h2v7zm4 0h-2V7h2v10zm4 0h-2v-4h2v4z\"/>\n",
              "    </g>\n",
              "</svg>\n",
              "  </button>\n",
              "\n",
              "<style>\n",
              "  .colab-df-quickchart {\n",
              "      --bg-color: #E8F0FE;\n",
              "      --fill-color: #1967D2;\n",
              "      --hover-bg-color: #E2EBFA;\n",
              "      --hover-fill-color: #174EA6;\n",
              "      --disabled-fill-color: #AAA;\n",
              "      --disabled-bg-color: #DDD;\n",
              "  }\n",
              "\n",
              "  [theme=dark] .colab-df-quickchart {\n",
              "      --bg-color: #3B4455;\n",
              "      --fill-color: #D2E3FC;\n",
              "      --hover-bg-color: #434B5C;\n",
              "      --hover-fill-color: #FFFFFF;\n",
              "      --disabled-bg-color: #3B4455;\n",
              "      --disabled-fill-color: #666;\n",
              "  }\n",
              "\n",
              "  .colab-df-quickchart {\n",
              "    background-color: var(--bg-color);\n",
              "    border: none;\n",
              "    border-radius: 50%;\n",
              "    cursor: pointer;\n",
              "    display: none;\n",
              "    fill: var(--fill-color);\n",
              "    height: 32px;\n",
              "    padding: 0;\n",
              "    width: 32px;\n",
              "  }\n",
              "\n",
              "  .colab-df-quickchart:hover {\n",
              "    background-color: var(--hover-bg-color);\n",
              "    box-shadow: 0 1px 2px rgba(60, 64, 67, 0.3), 0 1px 3px 1px rgba(60, 64, 67, 0.15);\n",
              "    fill: var(--button-hover-fill-color);\n",
              "  }\n",
              "\n",
              "  .colab-df-quickchart-complete:disabled,\n",
              "  .colab-df-quickchart-complete:disabled:hover {\n",
              "    background-color: var(--disabled-bg-color);\n",
              "    fill: var(--disabled-fill-color);\n",
              "    box-shadow: none;\n",
              "  }\n",
              "\n",
              "  .colab-df-spinner {\n",
              "    border: 2px solid var(--fill-color);\n",
              "    border-color: transparent;\n",
              "    border-bottom-color: var(--fill-color);\n",
              "    animation:\n",
              "      spin 1s steps(1) infinite;\n",
              "  }\n",
              "\n",
              "  @keyframes spin {\n",
              "    0% {\n",
              "      border-color: transparent;\n",
              "      border-bottom-color: var(--fill-color);\n",
              "      border-left-color: var(--fill-color);\n",
              "    }\n",
              "    20% {\n",
              "      border-color: transparent;\n",
              "      border-left-color: var(--fill-color);\n",
              "      border-top-color: var(--fill-color);\n",
              "    }\n",
              "    30% {\n",
              "      border-color: transparent;\n",
              "      border-left-color: var(--fill-color);\n",
              "      border-top-color: var(--fill-color);\n",
              "      border-right-color: var(--fill-color);\n",
              "    }\n",
              "    40% {\n",
              "      border-color: transparent;\n",
              "      border-right-color: var(--fill-color);\n",
              "      border-top-color: var(--fill-color);\n",
              "    }\n",
              "    60% {\n",
              "      border-color: transparent;\n",
              "      border-right-color: var(--fill-color);\n",
              "    }\n",
              "    80% {\n",
              "      border-color: transparent;\n",
              "      border-right-color: var(--fill-color);\n",
              "      border-bottom-color: var(--fill-color);\n",
              "    }\n",
              "    90% {\n",
              "      border-color: transparent;\n",
              "      border-bottom-color: var(--fill-color);\n",
              "    }\n",
              "  }\n",
              "</style>\n",
              "\n",
              "  <script>\n",
              "    async function quickchart(key) {\n",
              "      const quickchartButtonEl =\n",
              "        document.querySelector('#' + key + ' button');\n",
              "      quickchartButtonEl.disabled = true;  // To prevent multiple clicks.\n",
              "      quickchartButtonEl.classList.add('colab-df-spinner');\n",
              "      try {\n",
              "        const charts = await google.colab.kernel.invokeFunction(\n",
              "            'suggestCharts', [key], {});\n",
              "      } catch (error) {\n",
              "        console.error('Error during call to suggestCharts:', error);\n",
              "      }\n",
              "      quickchartButtonEl.classList.remove('colab-df-spinner');\n",
              "      quickchartButtonEl.classList.add('colab-df-quickchart-complete');\n",
              "    }\n",
              "    (() => {\n",
              "      let quickchartButtonEl =\n",
              "        document.querySelector('#df-59a4e126-6cd8-4a87-bf05-b1824c5e8e13 button');\n",
              "      quickchartButtonEl.style.display =\n",
              "        google.colab.kernel.accessAllowed ? 'block' : 'none';\n",
              "    })();\n",
              "  </script>\n",
              "</div>\n",
              "    </div>\n",
              "  </div>\n"
            ]
          },
          "metadata": {},
          "execution_count": 383
        }
      ]
    },
    {
      "cell_type": "code",
      "source": [
        "X = data['review']\n",
        "y = data['label']"
      ],
      "metadata": {
        "id": "SYX0-wvdkiTv"
      },
      "execution_count": null,
      "outputs": []
    },
    {
      "cell_type": "code",
      "source": [
        "X.shape"
      ],
      "metadata": {
        "colab": {
          "base_uri": "https://localhost:8080/"
        },
        "id": "gr-zmZr4Z4bG",
        "outputId": "7f516765-069a-4474-c231-9273f79b8c7d"
      },
      "execution_count": null,
      "outputs": [
        {
          "output_type": "execute_result",
          "data": {
            "text/plain": [
              "(9229,)"
            ]
          },
          "metadata": {},
          "execution_count": 385
        }
      ]
    },
    {
      "cell_type": "code",
      "source": [
        "import re\n",
        "def chuyen_viet_tat(s):\n",
        "\n",
        "    tu_dien_viet_tat = {\n",
        "    r'\\bmn\\b': 'mọi người',\n",
        "    r'\\bsp\\b': 'sản phẩm',\n",
        "    r'\\bđc\\b': 'được',\n",
        "    r'\\bnhah\\b': 'nhanh',\n",
        "    r'\\bhong\\b': 'không',\n",
        "    r'\\bk\\b': 'không',\n",
        "    r'\\bthui\\b': 'thôi',\n",
        "    r'\\be\\b': 'em',\n",
        "    r'\\bgh\\b': 'giao hàng',\n",
        "    r'\\bnhư v\\b': 'như vậy',\n",
        "    r'\\btr\\b': 'trời',\n",
        "    r'\\bon\\b': 'ổn',\n",
        "    r'\\bnma\\b': 'nhưng mà',\n",
        "    r'\\bnm\\b': 'nhưng mà',\n",
        "    r'\\bkhéc\\b': 'khét',\n",
        "    r'\\bhih\\b': 'hình',\n",
        "    r'\\bqc\\b': 'quảng cáo',\n",
        "    r'\\bt2\\b': 'thứ hai',\n",
        "    r'\\bsd\\b': 'sử dụng',\n",
        "    r'\\bhcm\\b': 'hồ chí minh',\n",
        "    r'\\bhn\\b': 'hà nội',\n",
        "    r'\\bcmt\\b': 'comment',\n",
        "    r'\\bng\\b': 'người',\n",
        "    r'\\bsr\\b': 'xin lỗi',\n",
        "    r'\\blg\\b': 'lượng',\n",
        "    r'\\bhsd\\b': 'hạn sử dụng',\n",
        "    r'\\bhok\\b': 'không',\n",
        "    r'\\bh\\b': 'giờ',\n",
        "    r'\\bae\\b': 'anh em',\n",
        "    r'\\bnt\\b': 'nhắn tin',\n",
        "    r'\\bsop\\b': 'shop',\n",
        "    r'\\bln\\b': 'luôn',\n",
        "    r'\\btrc\\b': 'trước',\n",
        "    r'\\bthik\\b': 'thích',\n",
        "    r'\\bmk\\b': 'mình',\n",
        "    r'\\bsx\\b': 'sản xuất',\n",
        "    r'\\bnhug\\b': 'nhưng',\n",
        "    r'\\bsl\\b': 'số lượng',\n",
        "    r'\\bthank\\b': 'cảm ơn',\n",
        "    r'\\bthanks\\b': 'cảm ơn',\n",
        "    r'\\bnka\\b': 'nha',\n",
        "    r'\\bthowm\\b': 'thơm',\n",
        "    r'\\bchuwa\\b': 'chưa',\n",
        "    r'\\bbic\\b': 'biết',\n",
        "    r'\\bgood\\b': 'tốt',\n",
        "    r'\\bgod\\b': 'tốt',\n",
        "    r'\\btn\\b': 'tin nhắn',\n",
        "    r'\\bđươcj\\b': 'được',\n",
        "    r'\\bvs\\b': 'với',\n",
        "    r'\\bdk\\b': 'được',\n",
        "    r'\\br\\b': 'rồi',\n",
        "    r'\\bmjh\\b': 'mình',\n",
        "    r'\\bntn\\b': 'như thế nào',\n",
        "    r'\\bbit\\b': 'biết',\n",
        "    r'\\bkm\\b': 'khuyến mãi',\n",
        "    r'\\bmng\\b': 'mọi người',\n",
        "    r'\\bcx\\b': 'cũng',\n",
        "    r'\\btt\\b': 'tiếp tục',\n",
        "    r'\\bcl\\b': 'chất lượng',\n",
        "    r'\\bktra\\b': 'kiểm tra',\n",
        "    r'\\bktr\\b': 'kiểm tra',\n",
        "    r'\\bz\\b': 'vậy',\n",
        "    r'\\bb\\b': 'bạn',\n",
        "    r'\\bkbt\\b': 'không biết',\n",
        "    r'\\bj\\b': 'gì',\n",
        "    r'\\bđt\\b': 'điện thoại',\n",
        "    r'\\blụong\\b': 'lượng',\n",
        "    r'\\bkaij\\b': 'lại',\n",
        "    r'\\bhk\\b': 'không',\n",
        "    r'\\bko\\b': 'không',\n",
        "    r'\\bđưj\\b': 'được',\n",
        "    r'\\bbidy\\b': 'body',\n",
        "    r'\\boki\\b': 'ok',\n",
        "    r'\\bnv\\b': 'nhân viên',\n",
        "    r'\\bchx\\b': 'chưa',\n",
        "    r'\\bbt\\b': 'biết',\n",
        "    r'\\bnhm\\b': 'nhưng mà',\n",
        "    r'\\bwa\\b': 'quá',\n",
        "    r'\\bchâm\\b': 'chậm',\n",
        "    r'\\bkhum\\b': 'không',\n",
        "    r'\\bchac\\b': 'chắc',\n",
        "    r'\\bcjhâm\\b': 'chậm',\n",
        "    r'\\bahop\\b': 'shop',\n",
        "    r'\\bxme\\b': 'xem',\n",
        "    r'\\bđnahs\\b': 'đánh',\n",
        "    r'\\bnghũ\\b': 'nghĩ',\n",
        "    r'\\btrỏng\\b': 'trong',\n",
        "    r'\\bokela\\b': 'ok',\n",
        "    r'\\btks\\b': 'cảm ơn',\n",
        "    r'\\bcùa\\b': 'của',\n",
        "    r'\\bơt\\b': 'ở',\n",
        "    r'\\bksao\\b': 'không sao',\n",
        "    r'\\bokelah\\b': 'ok',\n",
        "    r'\\bmụi\\b': 'mọi',\n",
        "    r'\\bngừoi\\b': 'người',\n",
        "    r'\\bmac\\b': 'mác',\n",
        "    r'\\bhfgng\\b': 'hàng',\n",
        "    r'\\bgg\\b': 'giảm giá',\n",
        "    r'\\bap\\b': 'áp',\n",
        "    r'\\bdc\\b': 'được',\n",
        "    r'\\bmag\\b': 'mang',\n",
        "    r'\\bbs\\b': 'bác sĩ',\n",
        "    r'\\bthươgf\\b': 'thường',\n",
        "    r'\\btu van\\b': 'tư vấn',\n",
        "    r'\\btgian\\b': 'thời gian',\n",
        "    r'\\bch\\b': 'chưa',\n",
        "    r'\\btg\\b': 'thời gian',\n",
        "    r'\\bcbi\\b': 'chuẩn bị',\n",
        "    r'\\bngưồi\\b': 'người',\n",
        "    r'\\bnhê\\b': 'nha',\n",
        "    r'\\bni\\b': 'này',\n",
        "    r'\\b\\fai\\b': \"phải\",\n",
        "     r'\\bship pơ\\b': \"shipper\",\n",
        "    r'\\bhiêun\\b': 'hiệu',\n",
        "    r'\\btố\\b': 'tốt',\n",
        "    r'\\btuýt\\b': 'tuýp',\n",
        "    r'\\bnx\\b': 'nữa',\n",
        "    r'\\btw\\b': 'trung ương',\n",
        "    r'\\blm\\b': 'làm',\n",
        "    r'\\bqq\\b': 'quần què',\n",
        "    r'\\bzire\\b': 'size',\n",
        "    r'\\bđâh\\b': 'đâu',\n",
        "    r'\\blun\\b': 'luôn',\n",
        "    r'\\bphake\\b': 'fake',\n",
        "    r'\\blonn\\b': 'lol',\n",
        "    r'\\bchổ\\b': 'chỗ',\n",
        "    r'\\bquâ\\b': 'quá',\n",
        "    r'\\bsít\\b': 'shit',\n",
        "    r'\\bdb\\b': 'đầu_buồi',\n",
        "    r'\\bchày\\b': 'trầy',\n",
        "    r'\\bqa\\b': 'quá',\n",
        "    r'\\bns\\b': 'nó',\n",
        "    r'\\bbôg\\b': 'bông',\n",
        "    r'\\bxâu\\b': 'xấu',\n",
        "    r'\\blh\\b': 'liên hệ',\n",
        "    r'\\bll\\b': 'liên lạc',\n",
        "    r'\\bgioa\\b': 'giao',\n",
        "    r'\\bnheng\\b': 'nhưng',\n",
        "    r'\\bak\\b': 'á',\n",
        "    r'\\bphẩn\\b': 'phẩm',\n",
        "    r'\\bcám\\b': 'cảm',\n",
        "    r'\\bah\\b': 'á',\n",
        "    r'\\bokey\\b': 'ok',\n",
        "    r'\\blứm\\b': 'lắm',\n",
        "    r'\\btoẹt\\b': 'tuyệt',\n",
        "    r'\\bkím\\b': 'kiếm',\n",
        "    r'\\bgood\\b': 'tốt',\n",
        "    r'\\btq\\b': 'trung quốc',\n",
        "    r'\\btiệc vời\\b': 'tuyệt vời',\n",
        "    r'\\bcunhx\\b': 'cũng',\n",
        "    r'\\bm\\b': 'mình',\n",
        "    r'\\bspham\\b': 'sản phẩm',\n",
        "    r'\\bks\\b': 'không sao',\n",
        "    r'\\btieenf\\b': 'tiền',\n",
        "    r'\\bqt\\b': 'quốc tế',\n",
        "    r'\\bnhunge\\b': 'nhưng',\n",
        "    r'\\bphaamf\\b': 'phẩm',\n",
        "    r'\\bbk\\b': 'biết',\n",
        "    r'\\bcos\\b': 'có',\n",
        "    r'\\btot\\b': 'tốt',\n",
        "    r'\\bkh\\b': 'khách hàng',\n",
        "    r'\\bnod\\b': 'nó',\n",
        "    r'\\brui\\b': 'rồi',\n",
        "    r'\\btrk\\b': 'trước',\n",
        "    r'\\bkg\\b': 'không',\n",
        "    r'\\bđx\\b': 'được',\n",
        "    r'\\bđưocj\\b': 'được',\n",
        "    r'\\blzd\\b': 'lazada',\n",
        "    r'\\bshipper\\b': 'shiper',\n",
        "    r'\\bnhưnh\\b': 'nhưng',\n",
        "    r'\\bnhung\\b': 'nhưng',\n",
        "    r'\\bokie\\b': 'ok',\n",
        "    r'\\bb\\b': 'bạn',\n",
        "    r'\\bph\\b': 'phẩm',\n",
        "    r'\\bsez\\b': 'sẽ',\n",
        "    r'\\bđng\\b': 'đóng',\n",
        "    r'\\bcb\\b': 'chuẩn bị',\n",
        "    r'\\bđươ\\b': 'được',\n",
        "    r'\\blượg\\b': 'lượng',\n",
        "    r'\\bđươc\\b': 'được',\n",
        "    r'\\batvs\\b': 'an toàn vệ sinh',\n",
        "    r'\\bgđ\\b': 'gia đình',\n",
        "    r'\\btc\\b': 'tính chất',\n",
        "    r'\\bđonga\\b': 'đóng',\n",
        "    r'\\bđings\\b': 'đóng',\n",
        "    r'\\bnhueng\\b': 'nhưng',\n",
        "    r'\\bre\\b': 'rẻ',\n",
        "    r'\\brats\\b': 'rất',\n",
        "    r'\\btyueet\\b': 'tuyệt',\n",
        "    r'\\bđưôcj\\b': 'được',\n",
        "    r'\\bqả\\b': 'quả',\n",
        "    r'\\bddep\\b': 'đẹp',\n",
        "    r'\\bkl\\b': 'không',\n",
        "    r'\\bnnao\\b': 'như nào',\n",
        "    r'\\bhủ\\b': 'hũ',\n",
        "    r'\\b\\n\\b': \" \",\n",
        "    r'\\bgood\\b': \"tốt\",\n",
        "    r'\\bbt\\b': \"bình thường\",\n",
        "    r'\\bbth\\b': \"bình thường\",\n",
        "    r'\\bbthg\\b': \"bình thường\",\n",
        "\n",
        "    }\n",
        "\n",
        "    for viet_tat, viet_thuong in tu_dien_viet_tat.items():\n",
        "        s = re.sub(viet_tat, viet_thuong, s)\n",
        "    return s"
      ],
      "metadata": {
        "id": "Ecmj0VzuQvUJ"
      },
      "execution_count": null,
      "outputs": []
    },
    {
      "cell_type": "code",
      "source": [
        "with open('/content/drive/MyDrive/NLP/stopword.txt', 'r', encoding='utf-8') as file:\n",
        "    stopword_list = file.read().splitlines()\n",
        "\n",
        "def remove_stopwords(sentence):\n",
        "    words = sentence.split()\n",
        "    filtered_words = [word for word in words if word.lower() not in stopword_list]\n",
        "    return ' '.join(filtered_words)\n"
      ],
      "metadata": {
        "id": "Gsh9yJRJ9tuF"
      },
      "execution_count": null,
      "outputs": []
    },
    {
      "cell_type": "code",
      "source": [
        "import re\n",
        "\n",
        "def loai_bo_chu_cai_lap(text):\n",
        "    result = re.sub(r'(\\w)\\1*', r'\\1', text)\n",
        "    return result\n"
      ],
      "metadata": {
        "id": "NhscGO36SQ2E"
      },
      "execution_count": null,
      "outputs": []
    },
    {
      "cell_type": "code",
      "source": [
        "X.shape"
      ],
      "metadata": {
        "colab": {
          "base_uri": "https://localhost:8080/"
        },
        "id": "RAeOPyeHRBuT",
        "outputId": "3a2aec9a-60bd-4d40-adb7-a15a8da1db9f"
      },
      "execution_count": null,
      "outputs": [
        {
          "output_type": "execute_result",
          "data": {
            "text/plain": [
              "(9229,)"
            ]
          },
          "metadata": {},
          "execution_count": 389
        }
      ]
    },
    {
      "cell_type": "code",
      "source": [
        "X_str = [chuyen_viet_tat(str(x)) for x in X]\n",
        "X_replace = [loai_bo_chu_cai_lap(x) for x in X_str]\n",
        "X_new = [remove_stopwords(sentence) for sentence in X_replace]"
      ],
      "metadata": {
        "id": "cAVAJERF-lQP"
      },
      "execution_count": null,
      "outputs": []
    },
    {
      "cell_type": "code",
      "source": [
        "from sklearn.feature_extraction.text import TfidfVectorizer\n",
        "from sklearn.model_selection import train_test_split, GridSearchCV\n",
        "from sklearn.metrics import classification_report\n",
        "from sklearn.naive_bayes import MultinomialNB\n",
        "from nltk.tokenize import word_tokenize\n",
        "from sklearn.svm import SVC"
      ],
      "metadata": {
        "id": "8CUZC9Wehgv1"
      },
      "execution_count": null,
      "outputs": []
    },
    {
      "cell_type": "code",
      "source": [
        "from google.colab import drive\n",
        "drive.mount('/content/drive')"
      ],
      "metadata": {
        "id": "tESExbDgE08v",
        "colab": {
          "base_uri": "https://localhost:8080/"
        },
        "outputId": "0744143e-54ef-4613-e539-2342249d84c0"
      },
      "execution_count": null,
      "outputs": [
        {
          "output_type": "stream",
          "name": "stdout",
          "text": [
            "Drive already mounted at /content/drive; to attempt to forcibly remount, call drive.mount(\"/content/drive\", force_remount=True).\n"
          ]
        }
      ]
    },
    {
      "cell_type": "markdown",
      "source": [
        "#Tách từ"
      ],
      "metadata": {
        "id": "j58fd1DHFyIk"
      }
    },
    {
      "cell_type": "code",
      "source": [
        "from pyvi import ViTokenizer\n",
        "X_tokenize = [ViTokenizer.tokenize(review) for review in X_new]"
      ],
      "metadata": {
        "id": "pw84R1yUz8nU"
      },
      "execution_count": null,
      "outputs": []
    },
    {
      "cell_type": "code",
      "source": [
        "X_train, X_test, y_train, y_test = train_test_split(X_tokenize,y,train_size = 0.8, random_state=42)"
      ],
      "metadata": {
        "id": "UCApxdW-GFd3"
      },
      "execution_count": null,
      "outputs": []
    },
    {
      "cell_type": "code",
      "source": [
        "data['review'] = X_tokenize"
      ],
      "metadata": {
        "id": "2UWuTk6Xj2sZ"
      },
      "execution_count": null,
      "outputs": []
    },
    {
      "cell_type": "code",
      "source": [
        "vectorizer =  TfidfVectorizer()\n",
        "X_train_vectorized = vectorizer.fit_transform(X_train)\n",
        "X_test_vectorized = vectorizer.transform(X_test)"
      ],
      "metadata": {
        "id": "BTiVvuNvFmkR"
      },
      "execution_count": null,
      "outputs": []
    },
    {
      "cell_type": "code",
      "source": [
        "from sklearn.naive_bayes import MultinomialNB\n",
        "nb_model = MultinomialNB()\n",
        "nb_model.fit(X_train_vectorized, y_train)\n",
        "y_pred_nb = nb_model.predict(X_test_vectorized)\n",
        "print(classification_report(y_test, y_pred_nb))"
      ],
      "metadata": {
        "id": "btt09Xt8Ko_l",
        "colab": {
          "base_uri": "https://localhost:8080/"
        },
        "outputId": "ac8e7cd3-b8f8-4229-ea89-ebfa78e3186e"
      },
      "execution_count": null,
      "outputs": [
        {
          "output_type": "stream",
          "name": "stdout",
          "text": [
            "              precision    recall  f1-score   support\n",
            "\n",
            "           0       0.84      0.93      0.88       755\n",
            "           1       0.78      0.94      0.85       822\n",
            "           2       1.00      0.07      0.13       269\n",
            "\n",
            "    accuracy                           0.81      1846\n",
            "   macro avg       0.87      0.65      0.62      1846\n",
            "weighted avg       0.84      0.81      0.76      1846\n",
            "\n"
          ]
        }
      ]
    },
    {
      "cell_type": "code",
      "source": [
        "import warnings\n",
        "import numpy as np\n",
        "import pandas as pd\n",
        "from sklearn.feature_extraction.text import TfidfVectorizer\n",
        "from scipy.special import logsumexp\n",
        "from sklearn.model_selection import train_test_split\n",
        "from sklearn.base import BaseEstimator, ClassifierMixin\n",
        "from sklearn.utils.validation import check_is_fitted, check_non_negative\n",
        "from sklearn.utils.extmath import safe_sparse_dot\n",
        "from sklearn.utils.validation import _check_sample_weight\n",
        "from sklearn.preprocessing import LabelBinarizer\n",
        "from sklearn.utils import check_array\n",
        "from sklearn.utils.multiclass import _check_partial_fit_first_call\n",
        "\n",
        "class MultinomialNBB(BaseEstimator, ClassifierMixin):\n",
        "    def __init__(self, alpha=1.0, fit_prior=True, class_prior=None):\n",
        "        self.alpha = alpha\n",
        "        self.fit_prior = fit_prior\n",
        "        self.class_prior = class_prior\n",
        "\n",
        "    def count(self, X, Y):\n",
        "        self.feature_count_ += safe_sparse_dot(Y.T, X)\n",
        "        self.class_count_ += Y.sum(axis=0)\n",
        "\n",
        "    def update_feature_log_prob(self, alpha):\n",
        "        smoothed_fc = self.feature_count_ + alpha\n",
        "        smoothed_cc = smoothed_fc.sum(axis=1)\n",
        "\n",
        "        self.feature_log_prob_ = np.log(smoothed_fc/smoothed_cc.reshape(-1, 1))\n",
        "\n",
        "    def update_class_log_prior(self, class_prior=None):\n",
        "        n_classes = len(self.classes_)\n",
        "        if class_prior is not None:\n",
        "            self.class_log_prior_ = np.log(class_prior)\n",
        "        elif self.fit_prior:\n",
        "            with warnings.catch_warnings():\n",
        "                warnings.simplefilter(\"ignore\", RuntimeWarning)\n",
        "                log_class_count = np.log(self.class_count_)\n",
        "            self.class_log_prior_ = log_class_count - np.log(self.class_count_.sum())\n",
        "        else:\n",
        "            self.class_log_prior_ = np.full(n_classes, -np.log(n_classes))\n",
        "\n",
        "    def init_counters(self, n_classes, n_features):\n",
        "        self.class_count_ = np.zeros(n_classes, dtype=np.float64)\n",
        "        self.feature_count_ = np.zeros((n_classes, n_features), dtype=np.float64)\n",
        "\n",
        "    def fit(self, X, y, sample_weight=None):\n",
        "        _, n_features = X.shape\n",
        "\n",
        "        labelbin = LabelBinarizer()\n",
        "        Y = labelbin.fit_transform(y)\n",
        "        self.classes_ = labelbin.classes_\n",
        "\n",
        "        if sample_weight is not None:\n",
        "            Y = Y.astype(np.float64, copy=False)\n",
        "            sample_weight = _check_sample_weight(sample_weight, X)\n",
        "            sample_weight = np.atleast_2d(sample_weight)\n",
        "            Y *= sample_weight.T\n",
        "\n",
        "        class_prior = self.class_prior\n",
        "        n_classes = Y.shape[1]\n",
        "        self.init_counters(n_classes, n_features)\n",
        "        self.count(X, Y)\n",
        "        alpha = self.alpha\n",
        "        self.update_feature_log_prob(alpha)\n",
        "        self.update_class_log_prior(class_prior=class_prior)\n",
        "        return self\n",
        "\n",
        "    def joint_log_likelihood(self, X):\n",
        "        return safe_sparse_dot(X, self.feature_log_prob_.T) + self.class_log_prior_\n",
        "\n",
        "    def predict(self, X):\n",
        "        jll = self.joint_log_likelihood(X)\n",
        "        return self.classes_[np.argmax(jll, axis=1)]\n"
      ],
      "metadata": {
        "id": "Gj9ToA9RGL7E"
      },
      "execution_count": null,
      "outputs": []
    },
    {
      "cell_type": "code",
      "source": [
        "model =  MultinomialNBB()\n",
        "model.fit(X_train_vectorized, y_train)\n",
        "y_pred = model.predict(X_test_vectorized)\n",
        "print(classification_report(y_test,y_pred))"
      ],
      "metadata": {
        "colab": {
          "base_uri": "https://localhost:8080/"
        },
        "id": "xShhoHog_EuJ",
        "outputId": "57d75cc6-9e96-4b9d-9ba2-77357e3cd8c3"
      },
      "execution_count": null,
      "outputs": [
        {
          "output_type": "stream",
          "name": "stdout",
          "text": [
            "              precision    recall  f1-score   support\n",
            "\n",
            "           0       0.84      0.93      0.88       755\n",
            "           1       0.78      0.94      0.85       822\n",
            "           2       1.00      0.07      0.13       269\n",
            "\n",
            "    accuracy                           0.81      1846\n",
            "   macro avg       0.87      0.65      0.62      1846\n",
            "weighted avg       0.84      0.81      0.76      1846\n",
            "\n"
          ]
        }
      ]
    },
    {
      "cell_type": "code",
      "source": [],
      "metadata": {
        "id": "sQlImHtH8Tp0"
      },
      "execution_count": null,
      "outputs": []
    }
  ]
}